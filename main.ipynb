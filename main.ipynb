{
 "cells": [
  {
   "cell_type": "code",
   "execution_count": null,
   "id": "9f636013-e254-4c69-99ef-fc00c312c9d7",
   "metadata": {
    "tags": []
   },
   "outputs": [],
   "source": [
    "from utils import MusicFingerPrint, MusicFingerPrintFromData\n",
    "from utils import invertedIndexTable, queryFromTable, musicToFolderMatching, folderToFolderMatching\n",
    "import time, pickle"
   ]
  },
  {
   "cell_type": "markdown",
   "id": "0ce8796f-35b3-4bf3-a45b-352298e9bc78",
   "metadata": {
    "tags": []
   },
   "source": [
    "## Example Usages"
   ]
  },
  {
   "cell_type": "markdown",
   "id": "99f11978-de98-44fa-bfb0-5457b395843c",
   "metadata": {},
   "source": [
    "### 1.  Build inverted index for the musics in a folder"
   ]
  },
  {
   "cell_type": "code",
   "execution_count": null,
   "id": "9fc9f1d1-48d1-4e69-a794-648a2ceaad6b",
   "metadata": {},
   "outputs": [],
   "source": [
    "# Use multithread, the params after the first line can be omitted, in that case, you use the default values\n",
    "inverted_index = invertedIndexTable('Data/GTZAN/', multithread=True, num_workers=4,\n",
    "                                       window_length_ms=100, hop_length_ms=20, zero_padding=4,\n",
    "                                       delta_T_ms=200, n_bands=20, target_zone_time_s=0.5, target_zone_time_offset_s=0.1,\n",
    "                                       target_zone_freq_factor=0.5, progress_bar=True, CFAR_flag=True) "
   ]
  },
  {
   "cell_type": "code",
   "execution_count": null,
   "id": "d20278ff-f983-4727-be9e-202784a6c08b",
   "metadata": {},
   "outputs": [],
   "source": [
    "# Not use multithread, omit the params after the first line\n",
    "inverted_index = invertedIndexTable('Data/GTZAN/', multithread=False) "
   ]
  },
  {
   "cell_type": "markdown",
   "id": "427beae6-300d-4c6e-8e69-869dc517f739",
   "metadata": {},
   "source": [
    "### 2.  Save/Load the calculated inverted-index table if necessary"
   ]
  },
  {
   "cell_type": "code",
   "execution_count": null,
   "id": "d34babfa-c3e1-43fd-8357-e7652d61d373",
   "metadata": {
    "tags": []
   },
   "outputs": [],
   "source": [
    "# Save\n",
    "path = 'Inverted_Index/GTZAN_STFT_inverted_index_table.pkl'\n",
    "confirmation = input(f\"Are you sure you want to save the inverted index table to {path}? (y/n): \")\n",
    "if confirmation.lower() == 'y':\n",
    "    with open(path, 'wb') as f:\n",
    "        pickle.dump(inverted_index, f)\n",
    "    print(\"Saved\")\n",
    "else:\n",
    "    print(\"Canceled\")"
   ]
  },
  {
   "cell_type": "code",
   "execution_count": null,
   "id": "84460301-afdb-4fff-9c37-a3daa873cfe8",
   "metadata": {
    "tags": []
   },
   "outputs": [],
   "source": [
    "# Load\n",
    "path = 'Inverted_Index/GTZAN_STFT_II_100_20_CFAR.pkl'\n",
    "confirmation = input(f\"Are you sure you want to load the inverted index table from {path}? (y/n): \")\n",
    "if confirmation.lower() == 'y':\n",
    "    with open(path, 'rb') as f:\n",
    "        inverted_index = pickle.load(f)\n",
    "    print(\"Loaded\")\n",
    "else:\n",
    "    print(\"Canceled\")"
   ]
  },
  {
   "cell_type": "markdown",
   "id": "e90b75aa-276a-48ea-b0f3-a882e20d4004",
   "metadata": {},
   "source": [
    "### 3.  Query a music from inverted index table"
   ]
  },
  {
   "cell_type": "code",
   "execution_count": null,
   "id": "a523ee92-fcb4-4e0d-8100-24a27de3555f",
   "metadata": {
    "tags": []
   },
   "outputs": [],
   "source": [
    "# Case 1: You do not have the pre-computed inverted indexes\n",
    "best_match, _, _ = musicToFolderMatching(music_path='Data/mir-2013-GeorgeDataset_snippet(10sec)_1062/',\n",
    "                                            music_name='blues.00005-snippet-10-20.wav',\n",
    "                                            folder_path='GTZAN/', inverted_index=None,\n",
    "                                            window_length_ms=100, hop_length_ms=20, zero_padding=4, delta_T_ms=200,\n",
    "                                            n_bands=30, target_zone_time_s=0.5, target_zone_time_offset_s=0.1,\n",
    "                                            target_zone_freq_factor=0.5, progress_bar=True, CFAR_flag=True)"
   ]
  },
  {
   "cell_type": "code",
   "execution_count": null,
   "id": "71884b81-9739-4bd5-8c02-8dfbaf88ac95",
   "metadata": {
    "tags": []
   },
   "outputs": [],
   "source": [
    "# Case 2: You have the pre-computed inverted indexes, also there are params can be omitted\n",
    "best_match, _, _ = musicToFolderMatching(music_path='Data/mir-2013-GeorgeDataset_snippet(10sec)_1062/',\n",
    "                                            music_name='blues.00011-snippet-10-20.wav',\n",
    "                                            folder_path='', inverted_index=inverted_index)"
   ]
  },
  {
   "cell_type": "markdown",
   "id": "7a1dbd93-26e0-4d2c-b3d1-bf1d913a4478",
   "metadata": {},
   "source": [
    "### 4.  Match a folder of musics (noisy versions) to the source folder, which contains original musics"
   ]
  },
  {
   "cell_type": "code",
   "execution_count": null,
   "id": "92d849ee-eb4f-4d02-9ace-da3baa7e9c46",
   "metadata": {
    "tags": []
   },
   "outputs": [],
   "source": [
    "# Case 1: You do not have the pre-computed inverted indexes\n",
    "predicted_labels, true_labels, inverted_index = folderToFolderMatching(\n",
    "                                                        folder_path='Data/GTZAN/', inverted_index=None,\n",
    "                                                        query_folder_path='Data/mir-2013-GeorgeDataset_snippet(10sec)_1062/',\n",
    "                                                        progress_bar=True, CFAR_flag=True, accuracy_flag=True,\n",
    "                                                        report_flag=False, confusion_flag=True\n",
    "                                                        )"
   ]
  },
  {
   "cell_type": "code",
   "execution_count": null,
   "id": "48fc8641-9a9e-45a8-bea8-2a8a1ff9fc46",
   "metadata": {
    "tags": []
   },
   "outputs": [],
   "source": [
    "# Case 2: You have the pre-computed inverted indexes\n",
    "predicted_labels, true_labels, inverted_index = folderToFolderMatching(\n",
    "                                                        folder_path='', inverted_index=inverted_index,\n",
    "                                                        query_folder_path='Data/mir-2013-GeorgeDataset_snippet(10sec)_1062/',\n",
    "                                                        progress_bar=True, CFAR_flag=True, accuracy_flag=True,\n",
    "                                                        report_flag=False, confusion_flag=True\n",
    "                                                        )"
   ]
  },
  {
   "cell_type": "code",
   "execution_count": null,
   "id": "d490c417-1953-46a7-9c37-95c700905561",
   "metadata": {
    "tags": []
   },
   "outputs": [],
   "source": [
    "# Case 3: You do not yet compute the inverted indexes\n",
    "# You want to   1. compute the inverted indexes     2. match the music   separately\n",
    "# Here we can choose if we use mutiThread or not by setting the param `multithread`\n",
    "# Also we can print the execution time for each step\n",
    "start_t = time.time()\n",
    "inverted_index = invertedIndexTable('Data/GTZAN/', multithread=True)\n",
    "built_ii_t = time.time()\n",
    "predicted_labels, true_labels, inverted_index = folderToFolderMatching(\n",
    "                                                        folder_path='', inverted_index=inverted_index,\n",
    "                                                        query_folder_path='Data/mir-2013-GeorgeDataset_snippet(10sec)_1062/',\n",
    "                                                        progress_bar=True, CFAR_flag=True, accuracy_flag=True,\n",
    "                                                        report_flag=False, confusion_flag=True\n",
    "                                                        )\n",
    "end_t = time.time()\n",
    "print(f'Time of Building Inverted Indexes: {(built_ii_t - start_t) :.3f} sec')\n",
    "print(f'Time of Matching Musics` Fingerprints: {(end_t - built_ii_t):.3f} sec')\n",
    "print(f'Total Time of Execution: {(end_t - start_t):.3f} sec')"
   ]
  }
 ],
 "metadata": {
  "kernelspec": {
   "display_name": "Python 3 (ipykernel)",
   "language": "python",
   "name": "python3"
  },
  "language_info": {
   "codemirror_mode": {
    "name": "ipython",
    "version": 3
   },
   "file_extension": ".py",
   "mimetype": "text/x-python",
   "name": "python",
   "nbconvert_exporter": "python",
   "pygments_lexer": "ipython3",
   "version": "3.9.12"
  },
  "widgets": {
   "application/vnd.jupyter.widget-state+json": {
    "state": {},
    "version_major": 2,
    "version_minor": 0
   }
  }
 },
 "nbformat": 4,
 "nbformat_minor": 5
}
